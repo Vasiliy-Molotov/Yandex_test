{
 "metadata": {
  "name": "",
  "signature": "sha256:d432eb7c3de664419ba974d2b5bb5a11b593471f64da264494f3dc50fe2377a4"
 },
 "nbformat": 3,
 "nbformat_minor": 0,
 "worksheets": [
  {
   "cells": [
    {
     "cell_type": "heading",
     "level": 2,
     "metadata": {},
     "source": [
      "\u0412\u044b\u0432\u043e\u0434\u044b \u0438 \u043e\u0442\u0432\u0435\u0442\u044b"
     ]
    },
    {
     "cell_type": "markdown",
     "metadata": {},
     "source": [
      "\u041f\u0440\u0435\u0434\u043b\u043e\u0436\u0438\u0442\u044c \u0441\u043f\u043e\u0441\u043e\u0431 \u0430\u0433\u0440\u0435\u0433\u0430\u0446\u0438\u0438 \u0440\u0435\u0437\u0443\u043b\u044c\u0442\u0430\u0442\u043e\u0432 (\u043a\u0430\u0436\u0434\u043e\u0435 \u0437\u0430\u0434\u0430\u043d\u0438\u0435 \u0440\u0435\u0448\u0430\u043b\u043e\u0441\u044c \u043d\u0435\u0437\u0430\u0432\u0438\u0441\u0438\u043c\u043e 5 \u0440\u0430\u0437\u043d\u044b\u043c\u0438 \u0442\u043e\u043b\u043e\u043a\u0435\u0440\u0430\u043c\u0438). \u041f\u0440\u0438 \u0432\u044b\u0431\u043e\u0440\u0435 \u0441\u043f\u043e\u0441\u043e\u0431\u0430 \u0430\u0433\u0440\u0435\u0433\u0430\u0446\u0438\u0438 \u043d\u0443\u0436\u043d\u043e \u0443\u0447\u0438\u0442\u044b\u0432\u0430\u0442\u044c, \u0447\u0442\u043e \u043f\u043e\u0447\u0442\u0438 \u0432\u0441\u0435 \u0442\u043e\u043b\u043e\u043a\u0435\u0440\u044b \u0432\u0440\u0435\u043c\u044f \u043e\u0442 \u0432\u0440\u0435\u043c\u0435\u043d\u0438 \u043e\u0448\u0438\u0431\u0430\u044e\u0442\u0441\u044f, \u0447\u0430\u0441\u0442\u044c \u0442\u043e\u043b\u043e\u043a\u0435\u0440\u043e\u0432 \u043c\u043e\u0433\u0443\u0442 \u043f\u043e\u0434\u0445\u043e\u0434\u0438\u0442\u044c \u043a \u0437\u0430\u0434\u0430\u043d\u0438\u044e \u0431\u0435\u0437\u043e\u0442\u0432\u0435\u0442\u0441\u0442\u0432\u0435\u043d\u043d\u043e (\u0432\u044b\u0431\u0438\u0440\u0430\u044e\u0442 \u043e\u0442\u0432\u0435\u0442 \u043d\u0430\u0443\u0433\u0430\u0434), \u0447\u0430\u0441\u0442\u044c \u0442\u043e\u043b\u043e\u043a\u0435\u0440\u043e\u0432 \u043c\u043e\u0433\u0443\u0442 \u0438\u0441\u043f\u043e\u043b\u044c\u0437\u043e\u0432\u0430\u0442\u044c \u0434\u043b\u044f \u0440\u0430\u0437\u043c\u0435\u0442\u043a\u0438 \u0440\u043e\u0431\u043e\u0442\u043e\u0432\n",
      "\n",
      "\n",
      "    \u0421\u043f\u043e\u0441\u043e\u0431 \u0430\u0433\u0440\u0435\u0433\u0430\u0446\u0438\u0438 (\u0434\u0430\u043b\u0435\u0435 \"method1\") \u0431\u0430\u0437\u0438\u0440\u0443\u0435\u0442\u0441\u044f \u043d\u0430 \u0441\u043b\u0435\u0434\u0443\u044e\u0449\u0435\u043c:\n",
      "    \u0412\u044b\u0431\u0435\u0440\u0435\u043c \u0442\u043e\u043b\u044c\u043a\u043e \u0442\u0435\u0445 \u0442\u043e\u043b\u043e\u043a\u0435\u0440\u043e\u0432, \u043a\u043e\u0442\u043e\u0440\u044b\u0435 \u044f\u0432\u043b\u044f\u044e\u0442\u0441\u044f \"\u043a\u0430\u0447\u0435\u0441\u0442\u0432\u0435\u043d\u043d\u044b\u043c\u0438\". \u0420\u0430\u0437\u043c\u0435\u0442\u043a\u0443 \u043f\u0440\u043e\u0438\u0437\u0432\u0435\u0434\u0435\u043c \u043d\u0430 \u043e\u0441\u043d\u043e\u0432\u0430\u043d\u0438\u0438 \u0431\u043e\u043b\u044c\u0448\u0438\u043d\u0441\u0442\u0432\u0430 \u0433\u043e\u043b\u043e\u0441\u043e\u0432 \u0438\u0441\u043a\u043b\u044e\u0447\u0438\u0442\u0435\u043b\u044c\u043d\u043e \u0442\u0430\u043a\u0438\u0445 \u0442\u043e\u043b\u043e\u043a\u0435\u0440\u043e\u0432. \u0422\u0430\u043c, \u0433\u0434\u0435 \u0442\u0430\u043a\u0438\u0435 \u0433\u043e\u043b\u043e\u0441\u0430 \u043f\u043e\u043b\u043d\u043e\u0441\u0442\u044c\u044e \u043e\u0442\u0441\u0443\u0442\u0441\u0442\u0432\u0443\u044e\u0442, \u0432\u043e\u0437\u044c\u043c\u0435\u043c baseline.\n",
      "\n",
      "    \u0414\u043b\u044f \u043e\u043f\u0440\u0435\u0434\u0435\u043b\u0435\u043d\u0438\u044f \u043a\u0430\u0447\u0435\u0441\u0442\u0432\u0435\u043d\u043d\u043e\u0441\u0442\u0438 \u0442\u043e\u043b\u043e\u043a\u0435\u0440\u043e\u0432 \u043c\u043e\u0436\u043d\u043e \u0437\u0430\u043d\u0438\u043c\u0430\u0442\u044c\u0441\u044f \u0434\u043e\u0441\u0442\u0430\u0442\u043e\u0447\u043d\u043e \u0434\u0435\u0442\u0430\u043b\u044c\u043d\u044b\u043c \u043f\u043e\u0434\u0431\u043e\u0440\u043e\u043c \u043f\u0430\u0440\u0430\u043c\u0435\u0442\u0440\u043e\u0432.\n",
      "    \u0412 \u0440\u0430\u043c\u043a\u0430\u0445 \u0434\u0430\u043d\u043d\u043e\u0433\u043e \u0437\u0430\u0434\u0430\u043d\u0438\u044f \u044d\u043c\u043f\u0438\u0440\u0438\u0447\u0435\u0441\u043a\u0438\u043c \u0441\u043f\u043e\u0441\u043e\u0431\u043e\u043c \u043f\u043e\u0434\u043e\u0431\u0440\u0430\u043d\u044b \u0441\u043b\u0435\u0434\u0443\u044e\u0449\u0438\u0435 \u0444\u0430\u043a\u0442\u043e\u0440\u044b \u0441 \u0438\u0445 \u0437\u043d\u0430\u0447\u0435\u043d\u0438\u044f\u043c\u0438, \u043e\u043f\u0438\u0441\u044b\u0432\u0430\u044e\u0449\u0438\u0435 \"\u043a\u0430\u0447\u0435\u0441\u0442\u0432\u0435\u043d\u043d\u043e\u0433\u043e \u0442\u043e\u043b\u043e\u043a\u0435\u0440\u0430\":\n",
      "    1) CV_result > 2 (\u0442\u043e\u043b\u043e\u043a\u0435\u0440 \u043f\u0440\u043e\u0432\u0435\u0440\u044f\u043b\u0441\u044f \u043a\u0430\u043a \u043c\u0438\u043d\u0438\u043c\u0443\u043c 2 \u0440\u0430\u0437\u0430)\n",
      "    2) WQ >= 95% (\u0432\u0435\u0440\u043e\u044f\u0442\u043d\u043e\u0441\u0442\u044c, \u0447\u0442\u043e \u043e\u043d \u0434\u0430\u043b \u0441\u0432\u043e\u0438 \u043e\u0442\u0432\u0435\u0442\u044b \u043d\u0435 \u043d\u0430\u0443\u0433\u0430\u0434) (\u0432 \u043a\u043e\u0434\u0435 \u043d\u0438\u0436\u0435 \u043e\u043f\u0438\u0441\u0430\u043d\u043e \u0431\u043e\u043b\u0435\u0435 \u0434\u0435\u0442\u0430\u043b\u044c\u043d\u043e) \n",
      "\n",
      "    \u0421\u0447\u0438\u0442\u0430\u0435\u043c, \u0447\u0442\u043e \u043f\u0440\u0438 \u0442\u0430\u043a\u043e\u0439 \u0432\u044b\u0441\u043e\u043a\u043e\u0439 \u043f\u043b\u0430\u043d\u043a\u0435 \u043a\u0430\u0447\u0435\u0441\u0442\u0432\u0430, \u043e\u0442\u0441\u0435\u0438\u0432\u0430\u044e\u0442\u0441\u044f \u0432\u0441\u0435 \u043d\u0435\u0447\u0435\u0441\u0442\u043d\u044b\u0435 \u0440\u0430\u0431\u043e\u0442\u043d\u0438\u043a\u0438, \u0438 \u043e\u0441\u0442\u0430\u044e\u0442\u0441\u044f \u0442\u043e\u043b\u044c\u043a\u043e \u043a\u0430\u0447\u0435\u0441\u0442\u0432\u0435\u043d\u043d\u044b\u0435. \u041f\u043e\u044d\u0442\u043e\u043c\u0443, \u043d\u0430\u043f\u0440\u0438\u043c\u0435\u0440, \u0442\u0430\u043a\u043e\u0439 \u0444\u0430\u043a\u0442\u043e\u0440, \u043a\u0430\u043a \u0432\u0440\u0435\u043c\u044f \u043e\u0442\u0432\u0435\u0442\u0430 \u043d\u0430 \u0432\u043e\u043f\u0440\u043e\u0441, \u0437\u0434\u0435\u0441\u044c \u043d\u0435 \u0443\u0447\u0438\u0442\u044b\u0432\u0430\u0435\u0442\u0441\u044f, \u0432 \u043f\u0440\u0435\u0434\u043f\u043e\u043b\u043e\u0436\u0435\u043d\u0438\u0438, \u0447\u0442\u043e \u043f\u0440\u0438 \u0442\u0430\u043a\u043e\u043c \u0432\u044b\u0441\u043e\u043a\u043e\u043c \u043a\u0430\u0447\u0435\u0441\u0442\u0432\u0435 \u043e\u043d \u0443\u0436\u0435 \u043a\u043e\u0441\u0432\u0435\u043d\u043d\u043e \u0443\u0447\u0442\u0435\u043d \u0438 \u043e\u0442\u0434\u0435\u043b\u044c\u043d\u043e \u043d\u0435 \u0432\u0430\u0436\u0435\u043d.\n",
      "\n",
      "\n",
      "\u041f\u0440\u043e\u0432\u0435\u0440\u0438\u0442\u044c, \u043f\u0440\u0430\u0432\u0434\u0430 \u043b\u0438 \u043f\u0440\u0435\u0434\u043b\u043e\u0436\u0435\u043d\u043d\u044b\u0439 \u0441\u043f\u043e\u0441\u043e\u0431 \u0430\u0433\u0440\u0435\u0433\u0430\u0446\u0438\u0438 \u0434\u0430\u0435\u0442 \u0431\u043e\u043b\u0435\u0435 \u0442\u043e\u0447\u043d\u0443\u044e \u0440\u0430\u0437\u043c\u0435\u0442\u043a\u0443. baseline - \u0432\u044b\u0431\u043e\u0440 \u0431\u043e\u043b\u044c\u0448\u0438\u043d\u0441\u0442\u0432\u0430. \u041e\u043f\u0438\u0448\u0438\u0442\u0435 \u0441\u043f\u043e\u0441\u043e\u0431 \u043f\u0440\u043e\u0432\u0435\u0440\u043a\u0438. \u041e\u043f\u0438\u0448\u0438\u0442\u0435 \u0440\u0430\u0441\u0441\u043c\u043e\u0442\u0440\u0435\u043d\u043d\u044b\u0435 \u0412\u0430\u043c\u0438 \u0441\u043f\u043e\u0441\u043e\u0431\u044b \u0430\u0433\u0440\u0435\u0433\u0430\u0446\u0438\u0438, \u0434\u0430\u0436\u0435 \u0435\u0441\u043b\u0438 \u043e\u043d\u0438 \u043e\u043a\u0430\u0437\u0430\u043b\u0438\u0441\u044c \u0445\u0443\u0436\u0435 baseline.\n",
      "\n",
      "    \u0421\u043f\u043e\u0441\u043e\u0431 \u043f\u0440\u043e\u0432\u0435\u0440\u043a\u0438 - \u0441\u0440\u0430\u0432\u043d\u0438\u0442\u044c baseline \u0438 method1 \u043f\u043e \u043f\u0430\u0440\u0430\u043c\u0435\u0442\u0440\u0430\u043c \u0442\u043e\u0447\u043d\u043e\u0441\u0442\u0438 \u0438 \u0432 \u0440\u0430\u0437\u0440\u0435\u0437\u0435 True/false Positive/negative \u043d\u0430 \u043e\u0441\u043d\u043e\u0432\u0435 \u0434\u0430\u043d\u043d\u044b\u0445 CV_results.\n",
      "    \n",
      "    Baseline ~ 81% \u0442\u043e\u0447\u043d\u043e\u0441\u0442\u044c, \u0440\u0430\u0437\u043c\u0435\u0447\u0435\u043d\u043e \u0431\u043e\u043b\u0435\u0435 99% \u0437\u0430\u043f\u0440\u043e\u0441\u043e\u0432. Method1 ~ 87% \u0442\u043e\u0447\u043d\u043e\u0441\u0442\u044c, \u0440\u0430\u0437\u043c\u0435\u0447\u0435\u043d\u043e \u0441\u0442\u043e\u043b\u044c\u043a\u043e \u0436\u0435, \u043f\u0440\u0438 \u044d\u0442\u043e\u043c ~96% \u0437\u0430\u043f\u0440\u043e\u0441\u043e\u0432 \u0440\u0430\u0437\u043c\u0435\u0447\u0435\u043d\u043e \u043a\u0430\u0447\u0435\u0441\u0442\u0432\u0435\u043d\u043d\u044b\u043c\u0438 \u0442\u043e\u043b\u043e\u043a\u0435\u0440\u0430\u043c\u0438, \u043e\u0441\u0442\u0430\u043b\u044c\u043d\u043e\u0435 - baseline. \u041e\u0441\u043d\u043e\u0432\u043d\u043e\u0435 \u0443\u043b\u0443\u0447\u0448\u0435\u043d\u0438\u0435 \u0432 \u043e\u0431\u043b\u0430\u0441\u0442\u0438 \u0441\u043d\u0438\u0436\u0435\u043d\u0438\u044f false positive rate.\n",
      "    \n",
      "    \u0414\u0430\u043b\u044c\u043d\u0435\u0439\u0448\u0435\u0435 \u0443\u043b\u0443\u0447\u0448\u0435\u043d\u0438\u0435 \u0442\u043e\u0447\u043d\u043e\u0441\u0442\u0438 \u0432\u043e\u0437\u043c\u043e\u0436\u043d\u043e \u0441\u043b\u0435\u0434\u0443\u044e\u0449\u0438\u043c \u043e\u0431\u0440\u0430\u0437\u043e\u043c. \u0414\u043e\u0431\u0430\u0432\u0438\u043c \u043a CV_result \u0434\u043e\u043f\u043e\u043b\u043d\u0438\u0442\u0435\u043b\u044c\u043d\u044b\u0435 \u0434\u0430\u043d\u043d\u044b\u0435 - \u043e\u0442\u0432\u0435\u0442\u044b \"\u0432\u044b\u0441\u043e\u043a\u043e\u043d\u0430\u0434\u0435\u0436\u043d\u044b\u0445 \u0442\u043e\u043b\u043e\u043a\u0435\u0440\u043e\u0432\" (\u0412\u0422). \u0422\u0430\u043a \u043a\u0430\u043a CV_result \u043f\u0440\u0438\u0441\u0443\u0442\u0441\u0442\u0432\u0443\u044e\u0442 \u0442\u043e\u043b\u044c\u043a\u043e \u0434\u043b\u044f ~10% \u0432\u0441\u0435\u0445 \u0437\u0430\u043f\u0440\u043e\u0441\u043e\u0432, \u0442\u043e \u0434\u0430\u043b\u0435\u043a\u043e \u043d\u0435 \u0432\u0441\u0435 \u0442\u043e\u043b\u043e\u043a\u0435\u0440\u044b \u0431\u044b\u043b\u0438 \u0432 \u0434\u043e\u0441\u0442\u0430\u0442\u043e\u0447\u043d\u043e\u0439 \u0441\u0442\u0435\u043f\u0435\u043d\u0438 \u043f\u0440\u043e\u0432\u0435\u0440\u0435\u043d\u044b, \u0438 \u043c\u044b \u043d\u0435 \u043c\u043e\u0436\u0435\u043c \u043e\u0442\u043d\u0435\u0441\u0442\u0438 \u0438\u0445 \u043a \u0433\u0440\u0443\u043f\u043f\u0435 \u043a\u0430\u0447\u0435\u0441\u0442\u0432\u0435\u043d\u043d\u044b\u0445 \u0438\u043b\u0438 \u043d\u0435\u043a\u0430\u0447\u0435\u0441\u0442\u0432\u0435\u043d\u043d\u044b\u0445 \u0440\u0430\u0431\u043e\u0442\u043d\u0438\u043a\u043e\u0432, \u0447\u0442\u043e\u0431\u044b \u0441 \u0431\u043e\u043b\u044c\u0448\u0435\u0439 \u043e\u043f\u0440\u0435\u0434\u0435\u043b\u0435\u043d\u043d\u043e\u0441\u0442\u044c\u044e \u0443\u0447\u0438\u0442\u044b\u0432\u0430\u0442\u044c \u0438\u0445 \u0433\u043e\u043b\u043e\u0441 \u0432 \u0440\u0430\u0437\u043c\u0435\u0442\u043a\u0435.\n",
      "    \n",
      "    \u0415\u0441\u043b\u0438 \u0436\u0435 \u043f\u0440\u043e\u0432\u0435\u0440\u044f\u0442\u044c \u0442\u043e\u043b\u043e\u043a\u0435\u0440\u043e\u0432 \u043d\u0435 \u0442\u043e\u043b\u044c\u043a\u043e \u043f\u043e CV_results, \u043d\u043e \u0438 \u043f\u043e \u0441\u0445\u043e\u0436\u0435\u0441\u0442\u0438 \u0441 \u043e\u0442\u0432\u0435\u0442\u0430\u043c\u0438 \u0412\u0422, \u0442\u043e \u043c\u043e\u0436\u043d\u043e \u043f\u043e\u043b\u0443\u0447\u0438\u0442\u044c \u0434\u043e\u043f\u043e\u043b\u043d\u0438\u0442\u0435\u043b\u044c\u043d\u0443\u044e \u0438\u043d\u0444\u043e\u0440\u043c\u0430\u0446\u0438\u044e \u043e\u0431 \u0438\u0445 \u043a\u0430\u0447\u0435\u0441\u0442\u0432\u0435. \u0415\u0441\u043b\u0438 \u043e\u0442\u0432\u0435\u0442 \u043d\u0435\u043a\u043e\u0442\u043e\u0440\u043e\u0433\u043e \u0442\u043e\u043b\u043e\u043a\u0435\u0440\u0430 \u0432 \u043d\u0435\u043a\u043e\u0442\u043e\u0440\u043e\u0439 \u043f\u043e\u0434\u0437\u0430\u0434\u0430\u0447\u0435 \u0441\u043e\u0432\u043f\u0430\u0434\u0430\u0435\u0442 \u0441 \u043e\u0442\u0432\u0435\u0442\u043e\u043c \u0412\u0422, \u0442\u043e \u043c\u043e\u0436\u043d\u043e \u0437\u0430\u0441\u0447\u0438\u0442\u0430\u0442\u044c \u0435\u043c\u0443 \u0434\u043e\u043f\u043e\u043b\u043d\u0438\u0442\u0435\u043b\u044c\u043d\u044b\u0439 \u0431\u0430\u043b\u043b \u0432 \u043f\u043e\u043b\u044c\u0437\u0443 \u0445\u043e\u0440\u043e\u0448\u0435\u0433\u043e \u043a\u0430\u0447\u0435\u0441\u0442\u0432\u0430 \u0435\u0433\u043e \u0440\u0430\u0431\u043e\u0442\u044b. \u0415\u0441\u043b\u0438 \u0442\u0430\u043a\u0438\u0445 \u0441\u0440\u0430\u0432\u043d\u0435\u043d\u0438\u0439 \u043d\u0430\u0431\u0435\u0440\u0435\u0442\u0441\u044f \u0434\u043e\u0441\u0442\u0430\u0442\u043e\u0447\u043d\u043e, \u0447\u0442\u043e\u0431\u044b \u043f\u0440\u0438\u0441\u0432\u043e\u0438\u0442\u044c \u0435\u043c\u0443 \u0443\u0440\u043e\u0432\u0435\u043d\u044c \u043f\u043e\u043f\u0430\u0434\u0430\u043d\u0438\u044f \u0432 \u0433\u0440\u0443\u043f\u043f\u0443 \"\u043a\u0430\u0447\u0435\u0441\u0442\u0432\u0435\u043d\u043d\u044b\u0445 \u0442\u043e\u043b\u043e\u043a\u0435\u0440\u043e\u0432\", \u0435\u0433\u043e \u043c\u043e\u0436\u043d\u043e \u0434\u043e\u0431\u0430\u0432\u0438\u0442\u044c \u043a \u044d\u0442\u043e\u0439 \u0433\u0440\u0443\u043f\u043f\u0435 \u0438 \u043f\u043e\u043b\u0443\u0447\u0438\u0442\u044c \u0431\u043e\u043b\u044c\u0448\u0435\u0435 \u043a\u043e\u043b\u0438\u0447\u0435\u0441\u0442\u0432\u043e \u0434\u043e\u0441\u0442\u0430\u0442\u043e\u0447\u043d\u043e \u043d\u0430\u0434\u0435\u0436\u043d\u043e\u0439 \u0438\u043d\u0444\u043e\u0440\u043c\u0430\u0446\u0438\u0438 \u0434\u043b\u044f \u0440\u0430\u0437\u043c\u0435\u0442\u043a\u0438.\n",
      "    \n",
      "    \u0412 \u0434\u0430\u043d\u043d\u043e\u043c \u0441\u043b\u0443\u0447\u0430\u0435 \u0442\u043e\u043b\u044c\u043a\u043e \u0438\u043c\u0435\u044e\u0442\u0441\u044f \u0442\u043e\u043b\u044c\u043a\u043e 6 \u0437\u0430\u043f\u0440\u043e\u0441\u043e\u0432, \u0438\u043c\u0435\u044e\u0449\u0438\u0445 \u0434\u0430\u043d\u043d\u044b\u0435 \u043f\u043e CV_results \u0438 \u043d\u0435 \u0438\u043c\u0435\u044e\u0449\u0438\u0435 \u0434\u0430\u043d\u043d\u044b\u0445 \u043e\u0442 \u043a\u0430\u0447\u0435\u0441\u0442\u0432\u0435\u043d\u043d\u044b\u0445 \u0442\u043e\u043b\u043e\u043a\u0435\u0440\u043e\u0432 (\u043f\u0440\u0438 269 \u0437\u0430\u043f\u0440\u043e\u0441\u0430\u0445 \u0441 CV_results), \u0438\u0437 \u043a\u043e\u0442\u043e\u0440\u044b\u0445 \u043f\u043e 2 \u0437\u0430\u043f\u0440\u043e\u0441\u0430\u043c \u0434\u0430\u043d\u043d\u044b\u0435 \u043f\u043e baseline \u0441\u043e\u0432\u043f\u0430\u0434\u0430\u044e\u0442 \u0441 CV_results. \u0422\u043e \u0435\u0441\u0442\u044c \u043e\u0441\u0442\u0430\u0435\u0442\u0441\u044f \u0442\u043e\u043b\u044c\u043a\u043e 4/269 = 1.5% \u043f\u043e\u0442\u0435\u043d\u0446\u0438\u0430\u043b\u044c\u043d\u043e\u0435 \u043f\u043e\u0432\u044b\u0448\u0435\u043d\u0438\u0435 \u0442\u043e\u0447\u043d\u043e\u0441\u0442\u0438, \u043a\u043e\u0442\u043e\u0440\u043e\u0435 \u043c\u043e\u0436\u043d\u043e \u0432\u044b\u044f\u0432\u0438\u0442\u044c \u0432 \u0434\u0430\u043d\u043d\u043e\u043c \u0441\u043b\u0443\u0447\u0430\u0435 \u0441 \u043f\u043e\u043c\u043e\u0449\u044c\u044e \u043e\u043f\u0438\u0441\u0430\u043d\u043e\u0433\u043e \u0432\u044b\u0448\u0435 \u043c\u0435\u0442\u043e\u0434\u0430. \u0415\u0433\u043e \u043f\u0440\u043e\u0432\u043e\u0434\u0438\u0442\u044c \u043d\u0435 \u0431\u0443\u0434\u0435\u043c \u0432 \u0432\u0438\u0434\u0443 \u043d\u0438\u0437\u043a\u043e\u0433\u043e \u0443\u0440\u043e\u0432\u043d\u044f \u0441\u043e\u043e\u0442\u043d\u043e\u0448\u0435\u043d\u0438\u044f \u0440\u0435\u0437\u0443\u043b\u044c\u0442\u0430\u0442/\u0443\u0441\u0438\u043b\u0438\u044f. "
     ]
    },
    {
     "cell_type": "heading",
     "level": 2,
     "metadata": {},
     "source": [
      "\u0421\u043a\u0440\u0438\u043f\u0442 \u0438\u0441\u0441\u043b\u0435\u0434\u043e\u0432\u0430\u043d\u0438\u044f \u0438 \u0440\u0430\u0437\u043c\u0435\u0442\u043a\u0438"
     ]
    },
    {
     "cell_type": "code",
     "collapsed": false,
     "input": [
      "import pandas as pd\n",
      "import numpy as np\n",
      "import glob, os\n",
      "import scipy\n",
      "from IPython.display import Image, HTML\n",
      "import matplotlib.pyplot as plt\n",
      "import pylab\n",
      "from __future__ import division\n",
      "\n",
      "pd.options.display.max_columns = 100\n",
      "pd.options.display.max_colwidth = 30\n",
      "pd.options.display.max_rows = 200"
     ],
     "language": "python",
     "metadata": {},
     "outputs": [],
     "prompt_number": 1
    },
    {
     "cell_type": "code",
     "collapsed": false,
     "input": [
      "path = \"I:\\!datascience\\yandex\\Toloka\\data.csv\"\n",
      "curr_dir = \"I:\\!datascience\\yandex\\\\\"\n",
      "data = pd.read_csv(filepath_or_buffer = path, sep = '|')"
     ],
     "language": "python",
     "metadata": {},
     "outputs": [],
     "prompt_number": 2
    },
    {
     "cell_type": "code",
     "collapsed": false,
     "input": [
      "# \u043f\u0440\u0438\u0441\u0432\u043e\u0438\u043c \u043a\u0430\u0436\u0434\u043e\u043c\u0443 \u0437\u0430\u0434\u0430\u043d\u0438\u044e (\u0441\u043e\u0441\u0442\u043e\u044f\u0449\u0435\u043c\u0443 \u0438\u0437 10 \u043a\u043e\u043d\u043a\u0440\u0435\u0442\u043d\u044b\u0445 \u043f\u043e\u0434\u0437\u0430\u0434\u0430\u043d\u0438\u0439) \u0441\u0432\u043e\u0439 id\n",
      "# \u0447\u0442\u043e\u0431\u044b \u043f\u043e\u0441\u043b\u0435 \u043f\u0435\u0440\u0435\u0432\u043e\u0434\u0430 \u0432 \u043f\u043b\u043e\u0441\u043a\u0443\u044e \u0441\u0442\u0440\u0443\u043a\u0442\u0443\u0440\u0443 \u0441\u043e\u0445\u0440\u0430\u043d\u0438\u0442\u044c \u0434\u0430\u043d\u043d\u0443\u044e \u0438\u043d\u0444\u043e\u0440\u043c\u0430\u0446\u0438\u044e\n",
      "data['task_text']=''\n",
      "for i in range(5,15):\n",
      "    data['task_text']=data['task_text'] + '|' + data['IV__query__' + str(i-5)]\n",
      "\n",
      "task_text = pd.DataFrame({'task_text': data.ix[:,75].unique()})\n",
      "\n",
      "for i in task_text.index:\n",
      "    task_text.ix[i,'task_id'] = i\n",
      "    \n",
      "data = pd.merge(data,task_text, how = 'left', on =['task_text'] )"
     ],
     "language": "python",
     "metadata": {},
     "outputs": [],
     "prompt_number": 3
    },
    {
     "cell_type": "code",
     "collapsed": false,
     "input": [
      "# \u043f\u0435\u0440\u0435\u0432\u0435\u0434\u0435\u043c \u0434\u0430\u043d\u043d\u044b\u0435 \u0432 \u0444\u043e\u0440\u043c\u0430\u0442 \u043f\u043b\u043e\u0441\u043a\u043e\u0439 \u0442\u0430\u0431\u043b\u0438\u0446\u044b\n",
      "data_flat = pd.DataFrame()\n",
      "columns =['WORKER_ID', 'START_DATE','EXECUTION_TIME', 'STATUS', 'HINTS', 'task_id', 'IV__query', 'IV__region', 'IV__region_id', 'IV__url', 'IV__screen', 'CV__results', 'OV__results']\n",
      "for i in range(0,10):\n",
      "    data_add = data.ix[:,[0,1,2,3,4,76,5+i,15+i,25+i,35+i,45+i,55+i,65+i]]\n",
      "    data_add.columns = columns\n",
      "    data_flat = data_flat.append(data_add)\n",
      "data_flat = data_flat.reset_index(drop=1)\n",
      "data_flat['appr_answ'] = (data_flat['OV__results'] == 'OK')*1 + (data_flat['OV__results'] == 'BAD')*1"
     ],
     "language": "python",
     "metadata": {},
     "outputs": [],
     "prompt_number": 4
    },
    {
     "cell_type": "code",
     "collapsed": false,
     "input": [
      "# \u0444\u0443\u043d\u043a\u0446\u0438\u044f \u0441\u0432\u0435\u0440\u043a\u0438 \u043e\u0442\u0432\u0435\u0442\u043e\u0432 \u0440\u0430\u0431\u043e\u0442\u043d\u0438\u043a\u0430 \u0441 \u043f\u0440\u043e\u0432\u0435\u0440\u043e\u0447\u043d\u044b\u043c\u0438 \u0434\u0430\u043d\u043d\u044b\u043c\u0438 \u043a \u043f\u043e\u0434\u0437\u0430\u0434\u0430\u043d\u0438\u044e\n",
      "# good_CV - \u043f\u0440\u043e\u0432\u0435\u0440\u043a\u0430 \u043f\u0440\u043e\u0439\u0434\u0435\u043d\u0430\n",
      "# bad_CV - \u043f\u0440\u043e\u0432\u0435\u0440\u043a\u0430 \u043d\u0435 \u043f\u0440\u043e\u0439\u0434\u0435\u043d\u0430\n",
      "# \u0435\u0449\u0435 \u0435\u0441\u0442\u044c \u0440\u0430\u0437\u043d\u044b\u0435 \u0432\u0430\u0440\u0438\u043d\u0430\u0442\u044b \u043e\u0442\u0441\u0443\u0442\u0441\u0442\u0432\u0438\u044f \u043f\u0440\u043e\u0432\u0435\u0440\u043a\u0438 \u043f\u043e \u0434\u0430\u043d\u043d\u043e\u043c\u0443 \u0437\u0430\u0434\u0430\u043d\u0438\u044e, \u043e\u043d\u0438 \u043f\u0440\u043e\u0441\u0442\u043e \u0443\u0447\u0442\u0435\u043d\u044b\n",
      "\n",
      "def CV_check(CV,OV):\n",
      "#     print CV, OV\n",
      "    if (CV == 'BAD') & (OV == 'BAD'):\n",
      "        return 'good_CV'\n",
      "    if (CV == 'OK') & (OV == 'OK'):\n",
      "        return 'good_CV'\n",
      "    if (CV == 'BAD') & (OV == 'OK'):\n",
      "        return 'bad_CV'\n",
      "    if (CV == 'OK') & (OV == 'BAD'):\n",
      "        return 'bad_CV'\n",
      "    if (OV == '404'):\n",
      "        return '404'\n",
      "    if (type(OV) == float):\n",
      "        if (np.isnan(OV) == True):\n",
      "            return 'no_answer'\n",
      "        if (OV == 404):\n",
      "            return '404'\n",
      "    if (type(OV) != float) & (type(CV) == float):\n",
      "        if (np.isnan(CV) == True):\n",
      "            return 'no_check'\n",
      "\n",
      "# \u0441\u0432\u0435\u0440\u0438\u043c \u043e\u0442\u0432\u0435\u0442\u044b \u0434\u043b\u044f \u0432\u0441\u0435\u0445 \u043f\u043e\u0434\u0437\u0430\u0434\u0430\u0447        \n",
      "data_flat['CV_check'] = data_flat.apply(lambda row: CV_check(row['CV__results'],row['OV__results']), axis = 1)"
     ],
     "language": "python",
     "metadata": {},
     "outputs": [],
     "prompt_number": 5
    },
    {
     "cell_type": "code",
     "collapsed": false,
     "input": [
      "# \u0434\u043e\u0431\u0430\u0432\u0438\u043c \u0441\u0442\u0430\u0442\u0438\u0441\u0442\u0438\u043a\u0443 \u043f\u043e \u043a\u0430\u0436\u0434\u043e\u043c\u0443 \u0440\u0430\u0431\u043e\u0442\u043d\u0438\u043a\u0443 \u0432 \u0442\u0430\u0431\u043b\u0438\u0446\u0443 Worker\n",
      "# \u0432 \u043e\u0441\u043d\u043e\u0432\u043d\u043e\u043c \u0438\u043d\u0435\u0442\u0435\u0440\u0441\u0443\u0435\u0442, \u0441\u043a\u043e\u043b\u044c\u043a\u043e \u0440\u0430\u0437 \u043e\u0442\u0432\u0435\u0442\u044b \u0440\u0430\u0431\u043e\u0442\u043d\u0438\u043a\u0430 \u043c\u043e\u0436\u043d\u043e \u043f\u0440\u043e\u0432\u0435\u0440\u0438\u0442\u044c: total_CV_count\n",
      "# \u0442\u043e \u0435\u0441\u0442\u044c \u043d\u0430 \u0441\u043a\u043e\u043b\u044c\u043a\u043e \u0438\u0437 \u043f\u043e\u0434\u0437\u0430\u0434\u0430\u0447, \u0440\u0435\u0448\u0435\u043d\u043d\u044b\u0445 \u0440\u0430\u0431\u043e\u0442\u043d\u0438\u043a\u043e\u043c, \u043f\u0440\u0438\u0441\u0443\u0442\u0441\u0442\u0432\u0443\u044e\u0442 \u043f\u0440\u043e\u0432\u0435\u0440\u043e\u0447\u043d\u044b\u0435 \u0434\u0430\u043d\u043d\u044b\u0435\n",
      "# \u0438 \u0441\u043a\u043e\u043b\u044c\u043a\u043e \u0440\u0430\u0437 \u043e\u043d \u0443\u0441\u043f\u0435\u0448\u043d\u043e \u043f\u0440\u043e\u0448\u0435\u043b \u0434\u0430\u043d\u043d\u0443\u044e \u043f\u0440\u043e\u0432\u0435\u0440\u043a\u0443: good_CV_count\n",
      "\n",
      "worker = pd.DataFrame({'WORKER_ID': data['WORKER_ID'].unique()})\n",
      "\n",
      "check_type = data_flat.ix[0:,'CV_check'].unique()\n",
      "\n",
      "for i in worker.index:\n",
      "    current_df = data_flat[data_flat['WORKER_ID']==worker.ix[i,'WORKER_ID']]\n",
      "    worker.ix[i,'question_count'] = current_df.shape[0]\n",
      "    for j in check_type:\n",
      "        worker.ix[i, str(j) + '_count'] = current_df[current_df['CV_check']==j].shape[0]\n",
      "        \n",
      "worker['total_CV_count'] = worker['good_CV_count'] + worker['bad_CV_count']\n",
      "worker['good_CV_share'] = worker['good_CV_count'] / (worker['total_CV_count'])\n",
      "worker['good_CV_share'] .fillna(-1, inplace=True)"
     ],
     "language": "python",
     "metadata": {},
     "outputs": [],
     "prompt_number": 6
    },
    {
     "cell_type": "code",
     "collapsed": false,
     "input": [
      "# \u0441\u043e\u0437\u0434\u0430\u0434\u0438\u043c \u0442\u0430\u0431\u043b\u0438\u0446\u0443 \u0441\u043e \u0432\u0441\u0435\u043c\u0438 \u043f\u043e\u0438\u0441\u043a\u043e\u0432\u044b\u043c\u0438 \u0437\u0430\u043f\u0440\u043e\u0441\u0430\u043c\u0438\n",
      "# \u043a\u0443\u0434\u0430 \u0431\u0443\u0434\u0435\u043c \u0434\u043e\u0431\u0430\u0432\u043b\u044f\u0442\u044c baseline results, aggregated results \u0438 \u043f\u0440\u043e\u0447\u0443\u044e \u043d\u0435\u043e\u0431\u0445\u043e\u0434\u0438\u043c\u0443\u044e \u0441\u0442\u0430\u0442\u0438\u0441\u0442\u0438\u043a\u0443\n",
      "\n",
      "data_query = data_flat[['IV__query','IV__region_id','IV__url','CV__results']].loc[~data_flat[['IV__query','IV__region_id','IV__url']].duplicated()]\n",
      "data_query = data_query.reset_index(drop=1)"
     ],
     "language": "python",
     "metadata": {},
     "outputs": [],
     "prompt_number": 7
    },
    {
     "cell_type": "code",
     "collapsed": false,
     "input": [
      "# \u0444\u0443\u043d\u043a\u0446\u0438\u044f \u0434\u043b\u044f \u043d\u0430\u0445\u043e\u0436\u0434\u0435\u043d\u0438\u044f \u0441\u0430\u043c\u043e\u0433\u043e \u0447\u0430\u0441\u0442\u043e\u0433\u043e \u0432\u0430\u0440\u0438\u0430\u043d\u0442\u0430 \u0441\u0440\u0435\u0434\u0438 \u0432\u0441\u0435\u0445 \u0433\u043e\u043b\u043e\u0441\u043e\u0432\n",
      "# \u043f\u043e \u0434\u0435\u0444\u043e\u043b\u0442\u0443 \u0441\u0447\u0438\u0442\u0430\u0435\u043c, \u0447\u0442\u043e \u0435\u0441\u043b\u0438 count(OK) = count(BAD), \u0442\u043e result = BAD\n",
      "# \u0442\u0430\u043a \u043a\u0430\u043a \u0432\u043e-\u043f\u0435\u0440\u0432\u044b\u0445, \u044d\u0442\u043e \u043b\u0443\u0447\u0448\u0435 \u043f\u043e \u043b\u043e\u0433\u0438\u043a\u0435 \u043d\u0430\u0434\u0435\u0436\u043d\u043e\u0441\u0442\u0438 \u043f\u043e\u0438\u0441\u043a\u043e\u0432\u043e\u0439 \u0432\u044b\u0434\u0430\u0447\u0438\n",
      "# \u0438 \u043e\u0431\u0443\u0447\u0435\u043d\u0438\u044f \u0435\u0435 \u0430\u043b\u0433\u043e\u0440\u0438\u0442\u043c\u043e\u0432, \u0432\u043e-\u0432\u0442\u043e\u0440\u044b\u0445, stats.mode \u0432\u044b\u0431\u0438\u0440\u0430\u0435\u0442 \u043f\u043e \u0430\u043b\u0444\u0430\u0432\u0438\u0442\u0443 (BAD > OK)\n",
      "\n",
      "from scipy import stats\n",
      "def vote(df, query, url, region):\n",
      "    df1 = df[(df['IV__query'] == query) &\n",
      "                     (df['IV__url'] == url) &\n",
      "                     (df['IV__region_id'] == region) &\n",
      "                     (df['appr_answ'] == 1)]['OV__results']\n",
      "    if len(df1)>0:  # \u0435\u0441\u0442\u044c \u0433\u043e\u043b\u043e\u0441\u0430 \u0437\u0430 \u0438 \u043f\u0440\u043e\u0442\u0438\u0432, \u0430 \u043d\u0435 \u0442\u043e\u043b\u044c\u043a\u043e 404 \u0438 \u043f\u0440.\n",
      "        return stats.mode(df1, axis=None)[0][0]\n",
      "    else:\n",
      "        return -1  # \u043d\u0435\u0442 \u0433\u043e\u043b\u043e\u0441\u043e\u0432 \u0437\u0430/\u043f\u0440\u043e\u0442\u0438\u0432"
     ],
     "language": "python",
     "metadata": {},
     "outputs": [],
     "prompt_number": 8
    },
    {
     "cell_type": "code",
     "collapsed": false,
     "input": [
      "# \u043d\u0430\u0439\u0434\u0435\u043c baseline result (\u0432\u044b\u0431\u043e\u0440 \u0431\u043e\u043b\u044c\u0448\u0438\u043d\u0441\u0442\u0432\u0430)\n",
      "data_query['baseline'] = data_query.apply(lambda row: vote(data_flat,row['IV__query'],row['IV__url'],row['IV__region_id']), axis = 1)"
     ],
     "language": "python",
     "metadata": {},
     "outputs": [],
     "prompt_number": 9
    },
    {
     "cell_type": "code",
     "collapsed": false,
     "input": [
      "# CV \u0434\u0430\u043d\u043d\u044b\u0435 \u0435\u0441\u0442\u044c \u0442\u043e\u043b\u044c\u043a\u043e \u043f\u043e 10% \u043f\u043e\u0434\u0437\u0430\u0434\u0430\u0447\n",
      "# \u0441\u043c\u0435\u0449\u0435\u043d\u0438\u0435 \u0440\u0430\u0441\u0442\u0430\u0432\u043b\u0435\u043d\u043d\u044b\u0445 \u043e\u0446\u0435\u043d\u043e\u043a \u0432 \u0441\u0442\u043e\u0440\u043e\u043d\u0443 \u0440\u0435\u043b\u0435\u0432\u0430\u043d\u0442\u043d\u043e\u0441\u0442\u0438 \u0441\u0442\u0440\u0430\u043d\u0438\u0446\n",
      "print 'baseline', 'BAD_count', len(data_query[data_query['baseline']=='BAD'])\n",
      "print 'baseline', 'OK_count', len(data_query[data_query['baseline']=='OK'])\n",
      "print 'CV', 'BAD_count', len(data_query[data_query['CV__results']=='BAD'])\n",
      "print 'CV', 'OK_count', len(data_query[data_query['CV__results']=='OK'])"
     ],
     "language": "python",
     "metadata": {},
     "outputs": [
      {
       "output_type": "stream",
       "stream": "stdout",
       "text": [
        "baseline BAD_count 930\n",
        "baseline OK_count 2283\n",
        "CV BAD_count 142\n",
        "CV OK_count 127\n"
       ]
      }
     ],
     "prompt_number": 10
    },
    {
     "cell_type": "code",
     "collapsed": false,
     "input": [
      "def Result(df,col):\n",
      "    Result_table = pd.DataFrame(data = [[0,0],[0,0]], index =['OK_OV','BAD_OV'], columns =['OK_CV','BAD_CV'])\n",
      "    # Result_table = pd.DataFrame(data = [[0,0,0],[0,0,0],[0,0,0]], index =['OK_OV','BAD_OV','sum'], columns =['OK_CV','BAD_CV','sum'])\n",
      "    Result_table.ix['OK_OV','OK_CV'] = len(df[(df[col]=='OK') & (df['CV__results']=='OK')])\n",
      "    Result_table.ix['OK_OV','BAD_CV'] = len(df[(df[col]=='OK') & (df['CV__results']=='BAD')])\n",
      "    Result_table.ix['BAD_OV','OK_CV'] = len(df[(df[col]=='BAD') & (df['CV__results']=='OK')])\n",
      "    Result_table.ix['BAD_OV','BAD_CV'] = len(df[(df[col]=='BAD') & (df['CV__results']=='BAD')])\n",
      "    # Result_table.ix[0,2] = Result.ix[0,0] + Result.ix[0,1]\n",
      "    # Result_table.ix[1,2] = Result.ix[1,0] + Result.ix[1,1]\n",
      "    # Result_table.ix[2,2] = Result.ix[2,0] + Result.ix[2,1]\n",
      "    # Result_table.ix[2,0] = Result.ix[0,0] + Result.ix[1,0]\n",
      "    # Result_table.ix[2,1] = Result.ix[0,1] + Result.ix[1,1]\n",
      "    # Result_table.ix[2,2] = Result.ix[0,2] + Result.ix[1,2]\n",
      "    return Result_table"
     ],
     "language": "python",
     "metadata": {},
     "outputs": [],
     "prompt_number": 11
    },
    {
     "cell_type": "code",
     "collapsed": false,
     "input": [
      "Result_baseline = Result(df = data_query, col = 'baseline')\n",
      "Result_baseline"
     ],
     "language": "python",
     "metadata": {},
     "outputs": [
      {
       "html": [
        "<div style=\"max-height:1000px;max-width:1500px;overflow:auto;\">\n",
        "<table border=\"1\" class=\"dataframe\">\n",
        "  <thead>\n",
        "    <tr style=\"text-align: right;\">\n",
        "      <th></th>\n",
        "      <th>OK_CV</th>\n",
        "      <th>BAD_CV</th>\n",
        "    </tr>\n",
        "  </thead>\n",
        "  <tbody>\n",
        "    <tr>\n",
        "      <th>OK_OV</th>\n",
        "      <td> 119</td>\n",
        "      <td>  42</td>\n",
        "    </tr>\n",
        "    <tr>\n",
        "      <th>BAD_OV</th>\n",
        "      <td>   8</td>\n",
        "      <td> 100</td>\n",
        "    </tr>\n",
        "  </tbody>\n",
        "</table>\n",
        "</div>"
       ],
       "metadata": {},
       "output_type": "pyout",
       "prompt_number": 12,
       "text": [
        "        OK_CV  BAD_CV\n",
        "OK_OV     119      42\n",
        "BAD_OV      8     100"
       ]
      }
     ],
     "prompt_number": 12
    },
    {
     "cell_type": "code",
     "collapsed": false,
     "input": [
      "col = 'baseline'\n",
      "print 'accuracy_baseline, % =', (Result_baseline.ix['OK_OV','OK_CV'] + Result_baseline.ix['BAD_OV','BAD_CV']) / 269 * 100\n",
      "print 'queries_evaluated = ', (len(data_query[data_query[col]=='OK'])+len(data_query[data_query[col]=='BAD']))/data_query[col].shape[0]"
     ],
     "language": "python",
     "metadata": {},
     "outputs": [
      {
       "output_type": "stream",
       "stream": "stdout",
       "text": [
        "accuracy_baseline, % = 81.4126394052\n",
        "queries_evaluated =  0.998756605533\n"
       ]
      }
     ],
     "prompt_number": 13
    },
    {
     "cell_type": "code",
     "collapsed": false,
     "input": [
      "#plotting\n",
      "pic_name_1 = \"N_questions_vs_good_CV_share.png\"\n",
      "x = worker['total_CV_count']\n",
      "y = np.log2(worker['good_CV_share']+1,dtype='float64')\n",
      "ax = plt.subplot(111)\n",
      "plt.scatter(x, y, alpha = 0.1,) #plt.scatter(x, y, s=area, c=colors, alpha=0.5)\n",
      "\n",
      "ax.set_title(pic_name_1)\n",
      "ax.set_xlabel('total_CV_questions_count')\n",
      "ax.set_ylabel('good_CV_share (log2)')\n",
      "os.chdir(curr_dir)\n",
      "\n",
      "pylab.savefig(pic_name_1, bbox_inches='tight')\n",
      "plt.show()"
     ],
     "language": "python",
     "metadata": {},
     "outputs": [],
     "prompt_number": 31
    },
    {
     "cell_type": "code",
     "collapsed": false,
     "input": [
      "# \u0441\u0442\u0430\u0442\u0438\u0441\u0442\u0438\u043a\u0430 \u043f\u043e \u043b\u043e\u0433\u0430\u0440\u0438\u0444\u043c\u0443 \u043a\u0430\u0447\u0435\u0441\u0442\u0430 \u043e\u0442\u0432\u0435\u0442\u043e\u0432 (1 - \u0432\u0441\u0435 \u043f\u0440\u0430\u0432\u0438\u043b\u044c\u043d\u043e, 0 - \u0432\u0441\u0435 \u043d\u0435\u043f\u0440\u0430\u0432\u0438\u043b\u044c\u043d\u043e)\n",
      "# \u0434\u0430\u0435\u0442 \u043f\u0440\u0435\u0434\u0441\u0442\u0430\u0432\u043b\u0435\u043d\u0438\u0435, \u043a\u0430\u043a \u0440\u0430\u0441\u043f\u0440\u0435\u0434\u0435\u043b\u0435\u043d\u044b \u0440\u0430\u0431\u043e\u0442\u043d\u0438\u043a\u0438 \u043f\u043e \u0434\u0430\u043d\u043d\u043e\u043c\u0443 \u043f\u043e\u043a\u0430\u0437\u0430\u0442\u0435\u043b\u044e \u0432 \u0437\u0430\u0432\u0438\u0441\u0438\u043c\u043e\u0441\u0442\u0438 \u043e\u0442 \u043a\u043e\u043b\u0438\u0447\u0435\u0441\u0442\u0432\u0430 \u043f\u0440\u043e\u0439\u0434\u0435\u043d\u043d\u044b\u0445 \u043f\u0440\u043e\u0432\u0435\u0440\u043e\u043a\n",
      "# \u0432 \u0434\u0430\u043d\u043d\u043e\u043c \u0441\u043b\u0443\u0447\u0430\u0435 \u0432\u0438\u0434\u0438\u043c, \u0447\u0442\u043e \u043a\u0430\u0447\u0435\u0441\u0442\u0432\u0435\u043d\u043d\u044b \u0440\u0430\u0431\u043e\u0442\u043d\u0438\u043a\u0438 \u043f\u0440\u0438\u0441\u0443\u0442\u0441\u0442\u0432\u0443\u044e\u0442 \u0438 \u043e\u043a\u043e\u043b\u043e 40-60% \u043d\u0430\u0445\u043e\u0434\u0438\u0442\u0441\u044f \u0432 \u0437\u043e\u043d\u0435 >0.6,\n",
      "# \u0447\u0442\u043e \u0441\u0432\u0438\u0434\u0435\u0442\u0435\u043b\u044c\u0441\u0442\u0432\u0443\u0435\u0442 \u043e \u0445\u043e\u0440\u043e\u0448\u0435\u043c \u043a\u0430\u0447\u0435\u0441\u0442\u0432\u0435\n",
      "\n",
      "# \u0442\u043e \u0435\u0441\u0442\u044c \u043c\u043e\u0436\u043d\u043e \u0432\u044b\u0434\u0435\u043b\u0438\u0442\u044c \u0434\u043e\u0441\u0442\u0430\u0442\u043e\u0447\u043d\u0443\u044e \u043f\u043e \u0447\u0438\u0441\u043b\u0435\u043d\u043d\u043e\u0441\u0442\u0438 \u0433\u0440\u0443\u043f\u043f\u0443 \u043a\u0430\u0447\u0435\u0441\u0442\u0432\u0435\u043d\u043d\u044b\u0445 \u0442\u043e\u043b\u043e\u043a\u0435\u0440\u043e\u0432\n",
      "\n",
      "# \u043a\u0430\u043a \u0432\u0438\u0434\u043d\u043e, \u043d\u0430 \u0431\u043e\u043b\u044c\u0448\u043e\u043c \u043a\u043e\u043b\u0438\u0447\u0435\u0441\u0442\u0432\u0435 \u043f\u0440\u043e\u0432\u0435\u0440\u043e\u043a \u043d\u0430\u0445\u043e\u0434\u044f\u0442\u0441\u044f \u0442\u043e\u043b\u044c\u043a\u043e \u0440\u0430\u0431\u043e\u0442\u043d\u0438\u043a\u0438 \u0441 \u0445\u043e\u0440\u043e\u0448\u0438\u043c\u0438 \u043f\u043e\u043a\u0430\u0437\u0430\u0442\u0435\u043b\u044f\u043c\u0438 \u043f\u043e \u043a\u0430\u0447\u0435\u0441\u0442\u0432\u0443 \u043e\u0442\u0432\u0435\u0442\u043e\u0432\n",
      "# \u0432\u0438\u0434\u0438\u043c\u043e, \u0434\u0435\u0439\u0441\u0442\u0432\u0443\u0435\u0442 \u0440\u0435\u0439\u0442\u0438\u043d\u0433\u043e\u0432\u0430\u044f \u0441\u0438\u0441\u0442\u0435\u043c\u0430, \u043e\u0441\u0442\u0430\u0432\u043b\u044f\u044e\u0449\u0430\u044f \u0442\u043e\u043b\u044c\u043a\u043e \u043a\u0430\u0447\u0435\u0441\u0442\u0432\u0435\u043d\u043d\u044b\u0445 \u0440\u0430\u0431\u043e\u0442\u043d\u0438\u043a\u043e\u0432\n",
      "Image(filename=pic_name_1)"
     ],
     "language": "python",
     "metadata": {},
     "outputs": [
      {
       "metadata": {},
       "output_type": "pyout",
       "png": "[encoded data removed]",
       "prompt_number": 15,
       "text": [
        "<IPython.core.display.Image at 0xacde910>"
       ]
      }
     ],
     "prompt_number": 15
    },
    {
     "cell_type": "code",
     "collapsed": false,
     "input": [
      "# \u0437\u0430\u0434\u0430\u0434\u0438\u043c \u043a\u043e\u043d\u0441\u0442\u0430\u043d\u0442\u0443 worker quality WQ:\n",
      "# \u0433\u0434\u0435 \u0432\u0435\u0440\u043e\u044f\u0442\u043d\u043e\u0441\u0442\u044c \u0442\u043e\u0433\u043e, \u0447\u0442\u043e \u0441\u043e\u0442\u0440\u0443\u0434\u043d\u0438\u043a \u0434\u0430\u043b \u043e\u0442\u0432\u0435\u0442\u044b \u043d\u0430\u0443\u0433\u0430\u0434 \u0434\u043e\u043b\u0436\u043d\u0430 \u0431\u044b\u0442\u044c \u043c\u0435\u043d\u044c\u0448\u0435, \u0447\u0435\u043c \u0432\u0435\u043b\u0438\u0447\u0438\u043d\u0430 1 - WQ,\n",
      "# \u0447\u0442\u043e\u0431\u044b \u0435\u043c\u0443 \u0441\u0447\u0438\u0442\u0430\u0442\u044c\u0441\u044f \u043a\u0430\u0447\u0435\u0441\u0442\u0432\u0435\u043d\u043d\u044b\u043c \u0442\u043e\u043b\u043e\u043a\u0435\u0440\u043e\u043c\n",
      "# \u0435\u0435 \u0441\u043c\u044b\u0441\u043b \u0437\u0430\u043a\u043b\u044e\u0447\u0430\u0435\u0442\u0441\u044f \u0432 \u0432\u044b\u0431\u043e\u0440\u0435 \u0442\u0435\u0445 \u0441\u043e\u0442\u0440\u0443\u0434\u043d\u0438\u043a\u043e\u0432, \u043d\u0430 \u043e\u0442\u0432\u0435\u0442\u044b \u043a\u043e\u0442\u043e\u0440\u044b\u0445 \u043c\u043e\u0436\u043d\u043e \u043f\u043e\u043b\u0430\u0433\u0430\u0442\u044c\u0441\u044f\n",
      "# \u043e\u0442\u0432\u0435\u0442\u044b \u043a\u043e\u0442\u043e\u0440\u044b\u0445 \u0445\u043e\u0440\u043e\u0448\u043e \u0441\u043e\u0433\u043b\u0430\u0441\u0443\u044e\u0442\u0441\u044f \u0441 CV \u0438 \u043a\u043e\u0442\u043e\u0440\u044b\u0435, \u043f\u043e-\u0432\u0438\u0434\u0438\u043c\u043e\u043c\u0443 \u043e\u0442\u0432\u0435\u0442\u0441\u0442\u0432\u0435\u043d\u043d\u043e \u043f\u043e\u0434\u0445\u043e\u0434\u044f\u0442 \u043a \u0437\u0430\u0434\u0430\u043d\u0438\u044e\n",
      "\n",
      "# \u0438\u0437 \u0437\u0430\u0434\u0430\u043d\u043d\u043e\u0433\u043e WQ \u0440\u0430\u0441\u0447\u0438\u0442\u0430\u0435\u043c \u043d\u0435\u043e\u0431\u0445\u043e\u0434\u0438\u043c\u043e\u0435 \u043a\u043e\u043b\u0438\u0447\u0435\u0441\u0442\u0432\u043e \u043f\u043e\u043b\u043e\u0436\u0438\u0442\u0435\u043b\u044c\u043d\u043e \u043f\u0440\u043e\u0439\u0434\u0435\u043d\u043d\u044b\u0445\n",
      "# \u043f\u0440\u043e\u0432\u0435\u0440\u043e\u043a \u0438\u0437 \u0438\u0445 \u0441\u0443\u0449\u0435\u0441\u0442\u0432\u0443\u044e\u0449\u0435\u0433\u043e \u043a\u043e\u043b\u0438\u0447\u0435\u0441\u0442\u0432\u0430 \u0434\u043b\u044f \u043a\u0430\u0436\u0434\u043e\u0433\u043e \u0440\u0430\u0431\u043e\u0442\u043d\u0438\u043a\u0430 \n",
      "# \u0440\u0430\u0441\u0447\u0435\u0442 \u043f\u0440\u043e\u0438\u0437\u0432\u0435\u0434\u0435\u043c \u043d\u0430 \u043e\u0441\u043d\u043e\u0432\u0435 \u044d\u043a\u0441\u043f\u0435\u0440\u0438\u043c\u0435\u043d\u0442\u0430 \u0411\u0435\u0440\u043d\u0443\u043b\u043b\u0438,\n",
      "# \u0433\u0434\u0435 \u0430\u043d\u0430\u043b\u043e\u0433\u043e\u043c \u043a\u043e\u043b\u0438\u0447\u0435\u0441\u0442\u0432\u0443 \u044d\u043a\u0441\u043f\u0435\u0440\u0438\u043c\u0435\u043d\u0442\u043e\u0432 \u0431\u0443\u0434\u0435\u0442 \u043a\u043e\u043b\u0438\u0447\u0435\u0441\u0442\u0432\u043e \u043f\u043e\u0434\u0437\u0430\u0434\u0430\u0447 \u0441 \u0434\u0430\u043d\u043d\u044b\u043c\u0438 \u043f\u043e CV \u0434\u043b\u044f \u0434\u0430\u043d\u043d\u043e\u0433\u043e \u0440\u0430\u0431\u043e\u0442\u043d\u0438\u043a\u0430\n",
      "# \u0430 \u043a\u043e\u043b\u0438\u0447\u0435\u0441\u0442\u0432\u0443 \u0431\u043b\u0430\u0433\u043e\u043f\u0440\u0438\u044f\u0442\u043d\u044b\u0445 \u0438\u0441\u0445\u043e\u0434\u043e\u0432 - \u043a\u043e\u043b\u0438\u0447\u0435\u0441\u0442\u0432\u043e \u043f\u0440\u043e\u0439\u0434\u0435\u043d\u043d\u044b\u0445 \u043f\u0440\u043e\u0432\u0435\u0440\u043e\u043a\n",
      "\n",
      "# \u043e\u0441\u0442\u0430\u0432\u0438\u043c \u0442\u043e\u043b\u044c\u043a\u043e \u0442\u0443 \u0447\u0430\u0441\u0442\u044c \u0440\u0430\u0431\u043e\u0442\u043d\u0438\u043a\u043e\u0432,\n",
      "# \u0443 \u043a\u043e\u0442\u043e\u0440\u044b\u0445 \u043a\u043e\u043b\u0438\u0447\u0435\u0441\u0442\u0432\u043e \u043f\u0440\u043e\u0439\u0434\u0435\u043d\u043d\u044b\u0445 \u043f\u0440\u043e\u043f\u0435\u0440\u043e\u043a \u043d\u0435 \u043c\u0435\u043d\u0435\u0435 \u0437\u0430\u0434\u0430\u043d\u043e\u0433\u043e \u0443\u0440\u043e\u0432\u043d\u044f"
     ],
     "language": "python",
     "metadata": {},
     "outputs": [],
     "prompt_number": 16
    },
    {
     "cell_type": "code",
     "collapsed": false,
     "input": [
      "# \u0438\u0437\u0443\u0447\u0438\u043c, \u043a\u0430\u043a\u043e\u0439 \u043f\u0430\u0440\u0430\u043c\u0435\u0442\u0440 WQ \u043c\u043e\u0436\u043d\u043e \u0437\u0430\u0434\u0430\u0442\u044c, \u0447\u0442\u043e\u0431\u044b\n",
      "# 1) \u0438\u043c\u0435\u0442\u044c \u0434\u043e\u0441\u0442\u0430\u0442\u043e\u0447\u043d\u0443\u044e \u043d\u0430\u0434\u0435\u0436\u043d\u043e\u0441\u0442\u044c\n",
      "# 2) \u0438\u043c\u0435\u0442\u044c \u0434\u043e\u0441\u0442\u0430\u0442\u043e\u0447\u043d\u043e \u0440\u0430\u0431\u043e\u0442\u043d\u0438\u043a\u043e\u0432 \u0441 \u0437\u0430\u0434\u0430\u043d\u043e\u0439 \u043e\u0446\u0435\u043d\u043a\u043e\u0439\n",
      "\n",
      "worker2 = worker.copy() # \u0441\u0434\u0435\u043b\u0430\u0435\u043c \u044d\u0442\u043e \u043d\u0430 \u043a\u043e\u043f\u0438\u0438 \u0442\u0430\u0431\u043b\u0438\u0446\u044b worker\n",
      "\n",
      "from scipy.stats import binom\n",
      "WQ_array = [0.5,0.6,0.7,0.75,0.8,0.85,0.9,0.95,0.99,0.999,0.9999] #in %\n",
      "\n",
      "for WQ in WQ_array:\n",
      "    worker2['gCV_WQ' + str(WQ)] = worker2.apply(lambda row: binom.ppf(WQ,row['total_CV_count'],0.5), axis = 1)\n",
      "    worker2['gCV_WQ' + str(WQ) + 'pass'] = (worker2['gCV_WQ' + str(WQ)] <= worker2['good_CV_count'])*1\n",
      "    print \"WQ = %f, workers_passed_share = %f, and with more than 2 CV_checks = %f\" % (WQ,worker2['gCV_WQ' + str(WQ) + 'pass'].sum()/\n",
      "                                                                                       worker2['gCV_WQ' + str(WQ) + 'pass'].shape[0],\n",
      "                                                                                       worker2[worker2['total_CV_count']>2]['gCV_WQ' + str(WQ) + 'pass'].sum()/\n",
      "                                                                                       worker2['gCV_WQ' + str(WQ) + 'pass'].shape[0])\n"
     ],
     "language": "python",
     "metadata": {},
     "outputs": [
      {
       "output_type": "stream",
       "stream": "stdout",
       "text": [
        "WQ = 0.500000, workers_passed_share = 0.768362, and with more than 2 CV_checks = 0.598870\n",
        "WQ = 0.600000, workers_passed_share = 0.723164, and with more than 2 CV_checks = 0.564972\n",
        "WQ = 0.700000, workers_passed_share = 0.683616, and with more than 2 CV_checks = 0.525424"
       ]
      },
      {
       "output_type": "stream",
       "stream": "stdout",
       "text": [
        "\n",
        "WQ = 0.750000, workers_passed_share = 0.666667, and with more than 2 CV_checks = 0.508475\n",
        "WQ = 0.800000, workers_passed_share = 0.621469, and with more than 2 CV_checks = 0.485876"
       ]
      },
      {
       "output_type": "stream",
       "stream": "stdout",
       "text": [
        "\n",
        "WQ = 0.850000, workers_passed_share = 0.593220, and with more than 2 CV_checks = 0.457627\n",
        "WQ = 0.900000, workers_passed_share = 0.536723, and with more than 2 CV_checks = 0.401130"
       ]
      },
      {
       "output_type": "stream",
       "stream": "stdout",
       "text": [
        "\n",
        "WQ = 0.950000, workers_passed_share = 0.508475, and with more than 2 CV_checks = 0.372881\n",
        "WQ = 0.990000, workers_passed_share = 0.384181, and with more than 2 CV_checks = 0.248588"
       ]
      },
      {
       "output_type": "stream",
       "stream": "stdout",
       "text": [
        "\n",
        "WQ = 0.999000, workers_passed_share = 0.305085, and with more than 2 CV_checks = 0.169492\n",
        "WQ = 0.999900, workers_passed_share = 0.254237, and with more than 2 CV_checks = 0.118644"
       ]
      },
      {
       "output_type": "stream",
       "stream": "stdout",
       "text": [
        "\n"
       ]
      },
      {
       "output_type": "stream",
       "stream": "stderr",
       "text": [
        "C:\\Python27\\lib\\site-packages\\scipy\\stats\\_discrete_distns.py:70: RuntimeWarning: floating point number truncated to an integer\n",
        "  temp = special.bdtr(vals1, n, p)\n"
       ]
      }
     ],
     "prompt_number": 17
    },
    {
     "cell_type": "code",
     "collapsed": false,
     "input": [
      "# \u041a\u043e\u043d\u0435\u0447\u043d\u043e, \u043c\u0430\u0442\u0435\u043c\u0430\u0442\u0438\u0447\u0435\u0441\u043a\u0438 \u0442\u043e\u0447\u043d\u043e \u0431\u044b\u043b\u043e \u0431\u044b \u0441\u0434\u0435\u043b\u0430\u0442\u044c grid_search, \u0438\u0441\u0441\u043b\u0435\u0434\u043e\u0432\u0430\u0432 \u0442\u043e\u0447\u043d\u043e\u0441\u0442\u0438 \u043d\u0430 \u043a\u0430\u0436\u0434\u043e\u043c WQ \u0441 \u043d\u0435\u0431\u043e\u043b\u044c\u0448\u0438\u043c \u0448\u0430\u0433\u043e\u043c.\n",
      "# \u0412 \u0440\u0430\u043c\u043a\u0430\u0445 \u0434\u0430\u043d\u043d\u043e\u0433\u043e \u0438\u0441\u0441\u043b\u0435\u0434\u043e\u0432\u0430\u043d\u0438\u044f \u043f\u0440\u043e\u0432\u0435\u0440\u043a\u0430 \u043e\u0433\u0440\u0430\u043d\u0438\u0447\u0435\u043d\u0430 \u0437\u043d\u0430\u0447\u0435\u043d\u0438\u0435\u043c\u0438 WQ = 0.9,0.95,0.99\n",
      "# (\u0442\u043e\u0447\u043d\u043e\u0441\u0442\u044c)*(\u043a\u043e\u043b\u0438\u0447\u0435\u0441\u0442\u0432\u043e \u043f\u043e\u0434\u0437\u0430\u0434\u0430\u0447 \u0441 \u043e\u0442\u0432\u0435\u0442\u0430\u043c\u0438 \u043e\u0442 \u0434\u0430\u043d\u043d\u043e\u0439 \u0433\u0440\u0443\u043f\u043f\u044b \u0440\u0430\u0431\u043e\u0442\u043d\u0438\u043a\u043e\u0432)\n",
      "# \u043a\u043e\u0442\u043e\u0440\u044b\u0445 \u0441\u043e\u0441\u0442\u0430\u0432\u0438\u043b\u0430 \u0441\u043e\u043e\u0442\u0432\u0435\u0442\u0441\u0442\u0432\u0435\u043d\u043d\u043e 85%, 86%, 81%\n",
      "# \u0411\u043e\u043b\u044c\u0448\u0438\u0435 \u0437\u043d\u0430\u0447\u0435\u043d\u0438\u044f \u043d\u0435 \u0438\u0441\u0441\u043b\u0435\u0434\u043e\u0432\u0430\u043b\u0438\u0441\u044c,\u0442\u0430\u043a \u043a\u0430\u043a \u043f\u043e \u043d\u0438\u043c \u0443\u0436\u0435 \u0441\u0443\u0449\u0435\u0441\u0442\u0432\u0435\u043d\u043d\u043e \u043c\u0435\u043d\u044c\u0448\u0435 \u0434\u0430\u043d\u043d\u044b\u0445 \u043f\u043e OV_results\n",
      "# \u041c\u0435\u043d\u044c\u0448\u0438\u0435 \u0437\u043d\u0430\u0447\u0435\u043d\u0438\u044f \u043d\u0435 \u0438\u0441\u0441\u043b\u0435\u0434\u043e\u0432\u0430\u043b\u0438\u0441\u044c, \u0442\u0430\u043a \u043e\u0433\u0440\u0430\u043d\u0438\u0447\u0435\u043d\u044b \u0442\u043e\u0447\u043d\u043e\u0441\u0442\u044c\u044e baseline \u0432 81%"
     ],
     "language": "python",
     "metadata": {},
     "outputs": [],
     "prompt_number": 18
    },
    {
     "cell_type": "code",
     "collapsed": false,
     "input": [
      "# \u0434\u043e\u0431\u0430\u0432\u0438\u043c \u0434\u0430\u043d\u043d\u044b\u0435 \u043f\u043e \"\u043a\u0430\u0447\u0435\u0441\u0442\u0432\u0435\u043d\u043d\u044b\u043c\" \u0440\u0430\u0431\u043e\u0442\u043d\u0438\u043a\u0430\u043c \u0432 \u043f\u043b\u043e\u0441\u043a\u0443\u044e \u0442\u0430\u0431\u043b\u0438\u0446\u0443\n",
      "# data_flat = data_flat.drop(['WQ_pass'],1) \n",
      "worker2['WQ_pass'] = (worker2['good_CV_count'] > 2)*(worker2['gCV_WQ0.95pass'] == 1)*1\n",
      "data_flat = pd.merge(data_flat,worker2[['WORKER_ID','WQ_pass']], how = 'left', on =['WORKER_ID'])"
     ],
     "language": "python",
     "metadata": {},
     "outputs": [
      {
       "output_type": "stream",
       "stream": "stderr",
       "text": [
        "C:\\Python27\\lib\\site-packages\\pandas\\computation\\expressions.py:190: UserWarning: evaluating in Python space because the '*' operator is not supported by numexpr for the bool dtype, use '&' instead\n",
        "  unsupported[op_str]))\n"
       ]
      }
     ],
     "prompt_number": 19
    },
    {
     "cell_type": "code",
     "collapsed": false,
     "input": [
      "# \u043f\u0440\u043e\u0438\u0437\u0432\u0435\u0434\u0435\u043c \u0433\u043e\u043b\u043e\u0441\u043e\u0432\u0430\u043d\u0438\u0435 \u0441\u0440\u0435\u0434\u0438 \u043a\u0430\u0447\u0435\u0441\u0442\u0432\u0435\u043d\u043d\u044b\u0445 \u0440\u0430\u0431\u043e\u0442\u043d\u0438\u043a\u043e\u0432\n",
      "df2 = data_flat[data_flat['WQ_pass'] == 1]\n",
      "data_query['method1'] = data_query.apply(lambda row: vote(df2,row['IV__query'],row['IV__url'],row['IV__region_id']), axis = 1)"
     ],
     "language": "python",
     "metadata": {},
     "outputs": [],
     "prompt_number": 20
    },
    {
     "cell_type": "code",
     "collapsed": false,
     "input": [
      "Result_method1 = Result(df = data_query, col = 'method1')\n",
      "Result_method1"
     ],
     "language": "python",
     "metadata": {},
     "outputs": [
      {
       "html": [
        "<div style=\"max-height:1000px;max-width:1500px;overflow:auto;\">\n",
        "<table border=\"1\" class=\"dataframe\">\n",
        "  <thead>\n",
        "    <tr style=\"text-align: right;\">\n",
        "      <th></th>\n",
        "      <th>OK_CV</th>\n",
        "      <th>BAD_CV</th>\n",
        "    </tr>\n",
        "  </thead>\n",
        "  <tbody>\n",
        "    <tr>\n",
        "      <th>OK_OV</th>\n",
        "      <td> 114</td>\n",
        "      <td>  21</td>\n",
        "    </tr>\n",
        "    <tr>\n",
        "      <th>BAD_OV</th>\n",
        "      <td>  10</td>\n",
        "      <td> 118</td>\n",
        "    </tr>\n",
        "  </tbody>\n",
        "</table>\n",
        "</div>"
       ],
       "metadata": {},
       "output_type": "pyout",
       "prompt_number": 21,
       "text": [
        "        OK_CV  BAD_CV\n",
        "OK_OV     114      21\n",
        "BAD_OV     10     118"
       ]
      }
     ],
     "prompt_number": 21
    },
    {
     "cell_type": "code",
     "collapsed": false,
     "input": [
      "col = 'method1'\n",
      "print 'accuracy_baseline, % =', (Result_method1.ix['OK_OV','OK_CV'] + Result_method1.ix['BAD_OV','BAD_CV']) / 269 * 100\n",
      "print 'queries_evaluated = ', (len(data_query[data_query[col]=='OK'])+len(data_query[data_query[col]=='BAD']))/data_query[col].shape[0]"
     ],
     "language": "python",
     "metadata": {},
     "outputs": [
      {
       "output_type": "stream",
       "stream": "stdout",
       "text": [
        "accuracy_baseline, % = 86.2453531599\n",
        "queries_evaluated =  0.958657133976\n"
       ]
      }
     ],
     "prompt_number": 22
    },
    {
     "cell_type": "code",
     "collapsed": false,
     "input": [
      "# \u0442\u0430\u043c \u0433\u0434\u0435 \u043d\u0435\u0442 \u0434\u0430\u043d\u043d\u044b\u0445 \u043f\u043e \u043a\u0430\u0447\u0435\u0441\u0442\u0432\u0435\u043d\u043d\u044b\u043c \u0440\u0430\u0431\u043e\u0442\u043a\u0438\u043a\u0430\u043c, \u0432\u043e\u0437\u044c\u043c\u0435\u043c \u0434\u0430\u043d\u043d\u044b\u0435 \u043f\u043e baseline\n",
      "\n",
      "def method1_improve(a,b):\n",
      "    if (a == -1):\n",
      "        return b\n",
      "    else:\n",
      "        return a\n",
      "data_query['method1_impr'] = data_query['method1']\n",
      "data_query['method1_impr'] = data_query.apply(lambda row: method1_improve(row['method1_impr'],row['baseline']), axis = 1)"
     ],
     "language": "python",
     "metadata": {},
     "outputs": [],
     "prompt_number": 23
    },
    {
     "cell_type": "code",
     "collapsed": false,
     "input": [
      "Result_method1 = Result(df = data_query, col = 'method1_impr')\n",
      "Result_method1"
     ],
     "language": "python",
     "metadata": {},
     "outputs": [
      {
       "html": [
        "<div style=\"max-height:1000px;max-width:1500px;overflow:auto;\">\n",
        "<table border=\"1\" class=\"dataframe\">\n",
        "  <thead>\n",
        "    <tr style=\"text-align: right;\">\n",
        "      <th></th>\n",
        "      <th>OK_CV</th>\n",
        "      <th>BAD_CV</th>\n",
        "    </tr>\n",
        "  </thead>\n",
        "  <tbody>\n",
        "    <tr>\n",
        "      <th>OK_OV</th>\n",
        "      <td> 116</td>\n",
        "      <td>  24</td>\n",
        "    </tr>\n",
        "    <tr>\n",
        "      <th>BAD_OV</th>\n",
        "      <td>  11</td>\n",
        "      <td> 118</td>\n",
        "    </tr>\n",
        "  </tbody>\n",
        "</table>\n",
        "</div>"
       ],
       "metadata": {},
       "output_type": "pyout",
       "prompt_number": 24,
       "text": [
        "        OK_CV  BAD_CV\n",
        "OK_OV     116      24\n",
        "BAD_OV     11     118"
       ]
      }
     ],
     "prompt_number": 24
    },
    {
     "cell_type": "code",
     "collapsed": false,
     "input": [
      "col = 'method1_impr'\n",
      "print 'accuracy_baseline, % =', (Result_method1.ix['OK_OV','OK_CV'] + Result_method1.ix['BAD_OV','BAD_CV']) / 269 * 100\n",
      "print 'queries_evaluated = ', (len(data_query[data_query[col]=='OK'])+len(data_query[data_query[col]=='BAD']))/data_query[col].shape[0]"
     ],
     "language": "python",
     "metadata": {},
     "outputs": [
      {
       "output_type": "stream",
       "stream": "stdout",
       "text": [
        "accuracy_baseline, % = 86.9888475836\n",
        "queries_evaluated =  0.998756605533\n"
       ]
      }
     ],
     "prompt_number": 25
    },
    {
     "cell_type": "code",
     "collapsed": false,
     "input": [
      "# +5% \u0434\u043e\u0441\u0442\u0438\u0433\u043d\u0443\u0442\u043e\u0439 \u0442\u043e\u0447\u043d\u043e\u0441\u0442\u0438"
     ],
     "language": "python",
     "metadata": {},
     "outputs": [],
     "prompt_number": 26
    },
    {
     "cell_type": "code",
     "collapsed": false,
     "input": [
      "# \u0441\u043a\u043e\u043b\u044c\u043a\u043e \u043e\u0442\u0432\u0435\u0442\u043e\u0432, \u043f\u043e \u043a\u043e\u0442\u043e\u0440\u044b\u043c \u0435\u0441\u0442\u044c CV_results \u0431\u044b\u043b\u043e \u0432\u0437\u044f\u0442\u043e \u043e\u0442 baseline\n",
      "data_query[(data_query['method1']==-1) & (data_query['CV__results']=='BAD')].shape[0]+ data_query[(data_query['method1']==-1) & (data_query['CV__results']=='OK')].shape[0]"
     ],
     "language": "python",
     "metadata": {},
     "outputs": [
      {
       "metadata": {},
       "output_type": "pyout",
       "prompt_number": 27,
       "text": [
        "6"
       ]
      }
     ],
     "prompt_number": 27
    },
    {
     "cell_type": "code",
     "collapsed": false,
     "input": [
      "# \u0432\u044b\u043f\u0438\u0448\u0435\u043c \u0432 \u043e\u0442\u0434\u0435\u043b\u044c\u043d\u044b\u0439 \u0444\u0430\u0439\u043b\n",
      "# \u043a\u043e\u0434\u0438\u0440\u043e\u0432\u043a\u0430 \u043f\u0440\u0438 \u0437\u0430\u0433\u0440\u0443\u0437\u043a\u0435 data.scv \u0438 \u043f\u0440\u0438 \u043e\u0431\u0440\u0430\u0431\u043e\u0442\u043a\u0435 \u0431\u044b\u043b\u0430 UTF-8, \u0442\u0430\u043a\u0430\u044f \u0438 \u0434\u043e\u043b\u0436\u043d\u0430 \u043e\u0441\u0442\u0430\u0442\u044c\u0441\u044f\n",
      "data_query[['IV__query', 'IV__region_id', 'IV__url', 'method1_impr' ]].to_csv('output',header = False, index = False, sep='\\t')"
     ],
     "language": "python",
     "metadata": {},
     "outputs": [],
     "prompt_number": 28
    }
   ],
   "metadata": {}
  }
 ]
}